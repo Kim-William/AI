{
 "cells": [
  {
   "cell_type": "code",
   "execution_count": 2,
   "metadata": {},
   "outputs": [],
   "source": [
    "import time"
   ]
  },
  {
   "cell_type": "code",
   "execution_count": 3,
   "metadata": {},
   "outputs": [],
   "source": [
    "start = time.time()\n",
    "\n",
    "for i in range(1):\n",
    "    time.sleep(5)\n",
    "\n",
    "endt = time.time()"
   ]
  },
  {
   "cell_type": "code",
   "execution_count": 5,
   "metadata": {},
   "outputs": [
    {
     "name": "stdout",
     "output_type": "stream",
     "text": [
      "5.005167722702026\n"
     ]
    }
   ],
   "source": [
    "print(endt-start)"
   ]
  },
  {
   "cell_type": "code",
   "execution_count": 13,
   "metadata": {},
   "outputs": [],
   "source": [
    "import numpy as np\n",
    "\n",
    "def _append_to_param_dist(param_dist, param_name, param_value, min, max, count):\n",
    "    if param_value is not None:\n",
    "        param_dist[param_name]= np.unique(np.append(np.linspace(min, max, count), param_value))\n",
    "    return param_dist\n"
   ]
  },
  {
   "cell_type": "code",
   "execution_count": 14,
   "metadata": {},
   "outputs": [],
   "source": [
    "param_dist = {}\n",
    "\n",
    "param_dist = _append_to_param_dist(param_dist=param_dist, param_name= 'learning_rate', param_value=3, min=2, max=4, count=3)\n",
    "\n",
    "param_dist = _append_to_param_dist(param_dist=param_dist, param_name= 'droupout', param_value=None, min=2, max=4, count=3)\n",
    "param_dist = _append_to_param_dist(param_dist=param_dist, param_name= 'droupout_2', param_value=45, min=2, max=4, count=3)\n"
   ]
  },
  {
   "cell_type": "code",
   "execution_count": 15,
   "metadata": {},
   "outputs": [
    {
     "data": {
      "text/plain": [
       "{'learning_rate': array([2., 3., 4.]),\n",
       " 'droupout_2': array([ 2.,  3.,  4., 45.])}"
      ]
     },
     "execution_count": 15,
     "metadata": {},
     "output_type": "execute_result"
    }
   ],
   "source": [
    "param_dist"
   ]
  }
 ],
 "metadata": {
  "kernelspec": {
   "display_name": ".venv",
   "language": "python",
   "name": "python3"
  },
  "language_info": {
   "codemirror_mode": {
    "name": "ipython",
    "version": 3
   },
   "file_extension": ".py",
   "mimetype": "text/x-python",
   "name": "python",
   "nbconvert_exporter": "python",
   "pygments_lexer": "ipython3",
   "version": "3.9.20"
  }
 },
 "nbformat": 4,
 "nbformat_minor": 2
}
