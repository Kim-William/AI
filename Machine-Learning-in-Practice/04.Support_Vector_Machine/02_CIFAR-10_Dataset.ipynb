{
 "cells": [
  {
   "cell_type": "markdown",
   "metadata": {},
   "source": [
    "The CIFAR-10 dataset is a complex image classification dataset that is commonly used in machine learning tasks. It consists of 60,000 32x32 color images divided into 10 different classes. While SVM can show powerful performance in image classification tasks, image data is high-dimensional, which means that a feature extraction process may be required when applying SVM.\n",
    "\n",
    "Loading and Preprocessing the CIFAR-10 Dataset The CIFAR-10 dataset consists of RGB images, and to classify each image, the pixel data needs to be converted into vectors. Since SVM is not efficient when directly handling 2D image data, the images are converted into 1D vectors for training."
   ]
  },
  {
   "cell_type": "code",
   "execution_count": 6,
   "metadata": {},
   "outputs": [],
   "source": [
    "from sklearn.svm import SVC\n",
    "from sklearn.metrics import accuracy_score\n",
    "from sklearn.model_selection import train_test_split\n",
    "from tensorflow.keras.datasets import cifar10\n",
    "from sklearn.preprocessing import StandardScaler\n",
    "import numpy as np\n",
    "\n",
    "# Load the CIFAR-10 dataset\n",
    "(X_train, y_train), (X_test, y_test) = cifar10.load_data()\n",
    "\n",
    "# Flatten the images (convert 32x32x3 images into 1D vectors)\n",
    "X_train_flat = X_train.reshape(X_train.shape[0], -1)  # Convert to (50000, 32*32*3)\n",
    "X_test_flat = X_test.reshape(X_test.shape[0], -1)      # Convert to (10000, 32*32*3)\n",
    "\n",
    "# Normalize the data (important for SVM)\n",
    "scaler = StandardScaler()\n",
    "X_train_flat = scaler.fit_transform(X_train_flat)\n",
    "X_test_flat = scaler.transform(X_test_flat)\n",
    "\n",
    "# Optional: Use a smaller subset of the data to speed up training\n",
    "X_train_subset, _, y_train_subset, _ = train_test_split(X_train_flat, y_train, test_size=0.9, random_state=42)\n",
    "X_test_subset, _, y_test_subset, _ = train_test_split(X_test_flat, y_test, test_size=0.9, random_state=42)\n",
    "\n",
    "# Create the SVM model (RBF kernel is commonly used for image data)\n",
    "svm_model_rbf = SVC(kernel='rbf', C=1, gamma='scale')\n",
    "svm_model_linear = SVC(kernel='linear')\n",
    "svm_model_poly = SVC(kernel='poly', degree=3)  # Polynomial kernel of degree 3\n",
    "\n",
    "svm_model_rbf.fit(X_train_subset, y_train_subset.ravel())\n",
    "svm_model_linear.fit(X_train_subset, y_train_subset.ravel())\n",
    "svm_model_poly.fit(X_train_subset, y_train_subset.ravel())\n",
    "\n",
    "y_pred_rbf = svm_model_rbf.predict(X_test_subset)\n",
    "y_pred_linear = svm_model_linear.predict(X_test_subset)\n",
    "y_pred_poly = svm_model_poly.predict(X_test_subset)"
   ]
  },
  {
   "cell_type": "markdown",
   "metadata": {},
   "source": [
    "Generate random data for prediction (similar to CIFAR-10 data range)\n",
    "Compare all models."
   ]
  },
  {
   "cell_type": "code",
   "execution_count": 8,
   "metadata": {},
   "outputs": [
    {
     "name": "stdout",
     "output_type": "stream",
     "text": [
      "Randomly generated data:\n",
      "[[-0.43357579  0.89447971 -0.37489942 ... -0.92984659  1.5716975\n",
      "   0.83432099]\n",
      " [ 2.52457201  1.79165611  0.56537516 ... -1.52348857 -1.0327751\n",
      "  -2.08653381]\n",
      " [-1.87012474  0.44157122 -0.39083918 ...  0.74197546  2.31628587\n",
      "  -0.08688807]\n",
      " [ 0.19739427  1.09002944  0.48228726 ...  0.61973457 -1.06131282\n",
      "   1.99285663]\n",
      " [ 0.16217142  0.10607983  0.41640426 ...  1.69995937  1.9658678\n",
      "  -1.7277571 ]]\n",
      "\n",
      "Predictions using Linear SVM: [2 3 6 7 2]\n",
      "Predictions using RBF SVM: [1 1 1 1 1]\n",
      "Predictions using Polynomial SVM: [4 4 4 4 4]\n",
      "\n",
      "Accuracy on test set - Linear SVM: 0.33\n",
      "Accuracy on test set - RBF SVM: 0.42\n",
      "Accuracy on test set - Polynomial SVM: 0.33\n"
     ]
    }
   ],
   "source": [
    "random_data = np.random.uniform(X_train_flat.min(), X_train_flat.max(), (5, X_train_flat.shape[1]))\n",
    "\n",
    "print(\"Randomly generated data:\")\n",
    "print(random_data)\n",
    "\n",
    "# 7. Predict using the linear, rbf, and polynomial SVM models\n",
    "linear_predictions = svm_model_linear.predict(random_data)\n",
    "rbf_predictions = svm_model_rbf.predict(random_data)\n",
    "poly_predictions = svm_model_poly.predict(random_data)\n",
    "\n",
    "# 8. Compare predictions from different models\n",
    "print(\"\\nPredictions using Linear SVM:\", linear_predictions)\n",
    "print(\"Predictions using RBF SVM:\", rbf_predictions)\n",
    "print(\"Predictions using Polynomial SVM:\", poly_predictions)\n",
    "\n",
    "# 9. Evaluate the models on the test set (optional)\n",
    "linear_accuracy = accuracy_score(y_test_subset, svm_model_linear.predict(X_test_subset))\n",
    "rbf_accuracy = accuracy_score(y_test_subset, svm_model_rbf.predict(X_test_subset))\n",
    "poly_accuracy = accuracy_score(y_test_subset, svm_model_poly.predict(X_test_subset))\n",
    "\n",
    "print(f\"\\nAccuracy on test set - Linear SVM: {linear_accuracy:.2f}\")\n",
    "print(f\"Accuracy on test set - RBF SVM: {rbf_accuracy:.2f}\")\n",
    "print(f\"Accuracy on test set - Polynomial SVM: {poly_accuracy:.2f}\")"
   ]
  }
 ],
 "metadata": {
  "kernelspec": {
   "display_name": "myenv",
   "language": "python",
   "name": "python3"
  },
  "language_info": {
   "codemirror_mode": {
    "name": "ipython",
    "version": 3
   },
   "file_extension": ".py",
   "mimetype": "text/x-python",
   "name": "python",
   "nbconvert_exporter": "python",
   "pygments_lexer": "ipython3",
   "version": "3.9.20"
  }
 },
 "nbformat": 4,
 "nbformat_minor": 2
}
