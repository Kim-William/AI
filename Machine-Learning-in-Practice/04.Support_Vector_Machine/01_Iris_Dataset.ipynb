{
 "cells": [
  {
   "cell_type": "code",
   "execution_count": 11,
   "metadata": {},
   "outputs": [],
   "source": [
    "from sklearn import datasets\n",
    "from sklearn.model_selection import train_test_split\n",
    "from sklearn.svm import SVC\n",
    "from sklearn.metrics import accuracy_score\n",
    "import numpy as np\n",
    "\n",
    "iris = datasets.load_iris()\n",
    "X = iris.data[:, :2]  # Using only two features for simplicity (petal length, petal width)\n",
    "y = iris.target\n",
    "\n",
    "X_train, X_test, y_train, y_test = train_test_split(X, y, test_size=0.3, random_state=42)"
   ]
  },
  {
   "cell_type": "markdown",
   "metadata": {},
   "source": [
    "With Polynomial Kernel."
   ]
  },
  {
   "cell_type": "code",
   "execution_count": 12,
   "metadata": {},
   "outputs": [
    {
     "name": "stdout",
     "output_type": "stream",
     "text": [
      "Accuracy with Polynomial Kernel: 0.82\n"
     ]
    }
   ],
   "source": [
    "model_poly = SVC(kernel='poly', degree=10)  # 'degree=?' indicates cubic kernel\n",
    "\n",
    "model_poly.fit(X_train, y_train)\n",
    "\n",
    "y_pred_poly = model_poly.predict(X_test)\n",
    "\n",
    "accuracy_poly = accuracy_score(y_test, y_pred_poly)\n",
    "print(f\"Accuracy with Polynomial Kernel: {accuracy_poly:.2f}\")\n"
   ]
  },
  {
   "cell_type": "markdown",
   "metadata": {},
   "source": [
    "With Linear Kernel."
   ]
  },
  {
   "cell_type": "code",
   "execution_count": 13,
   "metadata": {},
   "outputs": [
    {
     "name": "stdout",
     "output_type": "stream",
     "text": [
      "Accuracy with Linear: 0.80\n"
     ]
    }
   ],
   "source": [
    "model = SVC(kernel='linear')  # 'kernel=linear' means the decision boundary is linear\n",
    "\n",
    "model.fit(X_train, y_train)\n",
    "\n",
    "y_pred = model.predict(X_test)\n",
    "\n",
    "accuracy = accuracy_score(y_test, y_pred)\n",
    "print(f\"Accuracy with Linear: {accuracy:.2f}\")"
   ]
  },
  {
   "cell_type": "markdown",
   "metadata": {},
   "source": [
    "With RBF Kernel."
   ]
  },
  {
   "cell_type": "code",
   "execution_count": 14,
   "metadata": {},
   "outputs": [
    {
     "name": "stdout",
     "output_type": "stream",
     "text": [
      "Accuracy with RBF Kernel: 0.80\n"
     ]
    }
   ],
   "source": [
    "model_rbf = SVC(kernel='rbf')  # 'rbf' kernel is used for non-linear decision boundaries\n",
    "\n",
    "model_rbf.fit(X_train, y_train)\n",
    "\n",
    "y_pred_rbf = model_rbf.predict(X_test)\n",
    "\n",
    "accuracy_rbf = accuracy_score(y_test, y_pred_rbf)\n",
    "print(f\"Accuracy with RBF Kernel: {accuracy_rbf:.2f}\")"
   ]
  },
  {
   "cell_type": "markdown",
   "metadata": {},
   "source": [
    "Predict using the linear, rbf, and polynomial SVM models"
   ]
  },
  {
   "cell_type": "code",
   "execution_count": 15,
   "metadata": {},
   "outputs": [
    {
     "name": "stdout",
     "output_type": "stream",
     "text": [
      "Randomly generated data:\n",
      "[[3.00324636 6.81437335]]\n",
      "\n",
      "Predictions using Linear SVM: ['Iris-setosa']\n",
      "Predictions using RBF SVM: ['Iris-setosa']\n",
      "Predictions using Polynomial SVM: ['Iris-setosa']\n",
      "\n",
      "Accuracy on test set - Linear SVM: 0.80\n",
      "Accuracy on test set - RBF SVM: 0.80\n",
      "Accuracy on test set - Polynomial SVM: 0.82\n"
     ]
    }
   ],
   "source": [
    "random_data = np.random.uniform(X_train.min(), X_train.max(), (1, X_train.shape[1]))\n",
    "print(\"Randomly generated data:\")\n",
    "print(random_data)\n",
    "\n",
    "linear_predictions = model.predict(random_data)\n",
    "rbf_predictions = model_rbf.predict(random_data)\n",
    "poly_predictions = model_poly.predict(random_data)\n",
    "\n",
    "# Define the mapping from label to species name\n",
    "species_mapping = {0: \"Iris-setosa\", 1: \"Iris-versicolor\", 2: \"Iris-virginica\"}\n",
    "\n",
    "# Convert numerical predictions to species names\n",
    "linear_species = [species_mapping[pred] for pred in linear_predictions]\n",
    "rbf_species = [species_mapping[pred] for pred in rbf_predictions]\n",
    "poly_species = [species_mapping[pred] for pred in poly_predictions]\n",
    "\n",
    "# Compare predictions from different models\n",
    "print(\"\\nPredictions using Linear SVM:\", linear_species)\n",
    "print(\"Predictions using RBF SVM:\", rbf_species)\n",
    "print(\"Predictions using Polynomial SVM:\", poly_species)\n",
    "\n",
    "# Evaluate the models on the test set (optional)\n",
    "linear_accuracy = accuracy_score(y_test, model.predict(X_test))\n",
    "rbf_accuracy = accuracy_score(y_test, model_rbf.predict(X_test))\n",
    "poly_accuracy = accuracy_score(y_test, model_poly.predict(X_test))\n",
    "\n",
    "print(f\"\\nAccuracy on test set - Linear SVM: {linear_accuracy:.2f}\")\n",
    "print(f\"Accuracy on test set - RBF SVM: {rbf_accuracy:.2f}\")\n",
    "print(f\"Accuracy on test set - Polynomial SVM: {poly_accuracy:.2f}\")"
   ]
  }
 ],
 "metadata": {
  "kernelspec": {
   "display_name": "myenv",
   "language": "python",
   "name": "python3"
  },
  "language_info": {
   "codemirror_mode": {
    "name": "ipython",
    "version": 3
   },
   "file_extension": ".py",
   "mimetype": "text/x-python",
   "name": "python",
   "nbconvert_exporter": "python",
   "pygments_lexer": "ipython3",
   "version": "3.9.20"
  }
 },
 "nbformat": 4,
 "nbformat_minor": 2
}
