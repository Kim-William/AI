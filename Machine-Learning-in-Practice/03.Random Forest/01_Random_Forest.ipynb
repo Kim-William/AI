{
 "cells": [
  {
   "cell_type": "code",
   "execution_count": null,
   "metadata": {},
   "outputs": [],
   "source": [
    "import numpy as np\n",
    "import matplotlib.pyplot as plt\n",
    "from sklearn.model_selection import train_test_split\n",
    "from sklearn.ensemble import RandomForestClassifier\n",
    "from sklearn.metrics import accuracy_score, f1_score, precision_score, recall_score\n",
    "import pickle\n",
    "import os"
   ]
  },
  {
   "cell_type": "markdown",
   "metadata": {},
   "source": [
    "Constants"
   ]
  },
  {
   "cell_type": "code",
   "execution_count": null,
   "metadata": {},
   "outputs": [],
   "source": [
    "NUM_SAMPLE = 10  # Number of samples to generate\n",
    "VALIDATION_SAMPLE = 100  # Fixed validation dataset size\n",
    "output_dir = \"saved_models\"  # Directory to save the model"
   ]
  },
  {
   "cell_type": "markdown",
   "metadata": {},
   "source": [
    "Create the directory to save models if it doesn't exist"
   ]
  },
  {
   "cell_type": "code",
   "execution_count": null,
   "metadata": {},
   "outputs": [],
   "source": [
    "if not os.path.exists(output_dir):\n",
    "    os.makedirs(output_dir)"
   ]
  },
  {
   "cell_type": "markdown",
   "metadata": {},
   "source": [
    "1. Generate synthetic training data (replace with real data if available)"
   ]
  },
  {
   "cell_type": "code",
   "execution_count": null,
   "metadata": {},
   "outputs": [],
   "source": [
    "np.random.seed(42)\n",
    "# Features: Hours of Study, Exam Difficulty, Interest in Subject, Previous Exam Scores, Sleep Hours\n",
    "X = np.random.rand(NUM_SAMPLE, 5) * 10  # Random values representing 5 features\n",
    "y = (np.random.rand(NUM_SAMPLE) > 0.5).astype(int)  # Random pass/fail labels (0 or 1)\n",
    "print(f\"{X} | {y}\")"
   ]
  },
  {
   "cell_type": "markdown",
   "metadata": {},
   "source": [
    "2. Split data into training and test sets"
   ]
  },
  {
   "cell_type": "code",
   "execution_count": null,
   "metadata": {},
   "outputs": [],
   "source": [
    "X_train, X_test, y_train, y_test = train_test_split(X, y, test_size=0.2, random_state=42)"
   ]
  },
  {
   "cell_type": "markdown",
   "metadata": {},
   "source": [
    "3. Create and train a Random Forest model"
   ]
  },
  {
   "cell_type": "code",
   "execution_count": null,
   "metadata": {},
   "outputs": [],
   "source": [
    "model = RandomForestClassifier(n_estimators=100, random_state=42)\n",
    "model.fit(X_train, y_train)"
   ]
  },
  {
   "cell_type": "markdown",
   "metadata": {},
   "source": [
    "4. Predict on the test data"
   ]
  },
  {
   "cell_type": "code",
   "execution_count": null,
   "metadata": {},
   "outputs": [],
   "source": [
    "y_pred = model.predict(X_test)"
   ]
  },
  {
   "cell_type": "markdown",
   "metadata": {},
   "source": [
    "5. Evaluate the model"
   ]
  },
  {
   "cell_type": "code",
   "execution_count": 51,
   "metadata": {},
   "outputs": [],
   "source": [
    "accuracy = accuracy_score(y_test, y_pred)\n",
    "f1 = f1_score(y_test, y_pred)\n",
    "precision = precision_score(y_test, y_pred)\n",
    "recall = recall_score(y_test, y_pred)\n",
    "\n",
    "# Print evaluation metrics\n",
    "print(f\"Accuracy: {accuracy}\")\n",
    "print(f\"F1 Score: {f1}\")\n",
    "print(f\"Precision: {precision}\")\n",
    "print(f\"Recall: {recall}\")"
   ]
  },
  {
   "cell_type": "markdown",
   "metadata": {},
   "source": [
    "6. Save the model using pickle"
   ]
  },
  {
   "cell_type": "code",
   "execution_count": null,
   "metadata": {},
   "outputs": [],
   "source": [
    "model_save_path = os.path.join(output_dir, f'random_forest_model_{NUM_SAMPLE}.pkl')\n",
    "with open(model_save_path, 'wb') as file:\n",
    "    pickle.dump(model, file)\n",
    "print(f\"Model saved at: {model_save_path}\")"
   ]
  },
  {
   "cell_type": "markdown",
   "metadata": {},
   "source": [
    "7. Load the saved model and predict on new data"
   ]
  },
  {
   "cell_type": "code",
   "execution_count": null,
   "metadata": {},
   "outputs": [],
   "source": [
    "with open(model_save_path, 'rb') as file:\n",
    "    loaded_model = pickle.load(file)"
   ]
  },
  {
   "cell_type": "markdown",
   "metadata": {},
   "source": [
    "Test Model"
   ]
  },
  {
   "cell_type": "code",
   "execution_count": 50,
   "metadata": {},
   "outputs": [
    {
     "name": "stdout",
     "output_type": "stream",
     "text": [
      "[[3.74540119 9.50714306 7.31993942 5.98658484 1.5601864 ]\n",
      " [1.5599452  0.58083612 8.66176146 6.01115012 7.08072578]\n",
      " [0.20584494 9.69909852 8.32442641 2.12339111 1.81824967]\n",
      " [1.8340451  3.04242243 5.24756432 4.31945019 2.9122914 ]\n",
      " [6.11852895 1.39493861 2.92144649 3.66361843 4.56069984]\n",
      " [7.85175961 1.99673782 5.14234438 5.92414569 0.46450413]\n",
      " [6.07544852 1.70524124 0.65051593 9.48885537 9.65632033]\n",
      " [8.08397348 3.04613769 0.97672114 6.84233027 4.40152494]\n",
      " [1.22038235 4.9517691  0.34388521 9.09320402 2.58779982]\n",
      " [6.62522284 3.11711076 5.20068021 5.46710279 1.84854456]] | [1 1 1 1 1 1 0 0 0 0]\n",
      "Accuracy: 1.0\n",
      "F1 Score: 1.0\n",
      "Precision: 1.0\n",
      "Recall: 1.0\n",
      "Model saved at: saved_models/random_forest_model_10.pkl\n",
      "Predicted pass/fail for new student: Pass\n"
     ]
    }
   ],
   "source": [
    "# Generate new student data (replace with actual input data)\n",
    "X_new_student = np.array([[4, 9, 7, 5, 1]])  # Hours of Study, Exam Difficulty, Interest, Previous Score, Sleep Hours\n",
    "\n",
    "# Predict pass/fail for the new student\n",
    "y_new_pred = loaded_model.predict(X_new_student)\n",
    "\n",
    "# Print prediction\n",
    "print(f\"Predicted pass/fail for new student: {'Pass' if y_new_pred[0] == 1 else 'Fail'}\")"
   ]
  }
 ],
 "metadata": {
  "kernelspec": {
   "display_name": "myenv",
   "language": "python",
   "name": "python3"
  },
  "language_info": {
   "codemirror_mode": {
    "name": "ipython",
    "version": 3
   },
   "file_extension": ".py",
   "mimetype": "text/x-python",
   "name": "python",
   "nbconvert_exporter": "python",
   "pygments_lexer": "ipython3",
   "version": "3.9.20"
  }
 },
 "nbformat": 4,
 "nbformat_minor": 2
}
