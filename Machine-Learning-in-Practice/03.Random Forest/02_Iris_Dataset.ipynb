{
 "cells": [
  {
   "cell_type": "code",
   "execution_count": null,
   "metadata": {},
   "outputs": [],
   "source": [
    "from sklearn.datasets import load_iris\n",
    "from sklearn.model_selection import train_test_split\n",
    "from sklearn.ensemble import RandomForestClassifier\n",
    "from sklearn.metrics import accuracy_score\n",
    "import numpy as np\n",
    "import pandas as pd\n",
    "import pickle\n",
    "import os\n",
    "\n",
    "# Constants\n",
    "output_dir = \"saved_models\" # Directory to save the model\n",
    "model_save_path = os.path.join(output_dir, f'random_forest_iris_model.pkl')\n",
    "\n",
    "# Create the directory to save models if it doesn't exist\n",
    "if not os.path.exists(output_dir):\n",
    "    os.makedirs(output_dir)\n",
    "\n",
    "# Load the Iris dataset\n",
    "iris = load_iris()"
   ]
  },
  {
   "cell_type": "markdown",
   "metadata": {},
   "source": [
    " Iris dataset contains features and target (labels).\n",
    " - iris.data contains 4 features:\n",
    "   1. Sepal Length (cm): The length of the sepal (the outer part of the flower).\n",
    "   2. Sepal Width (cm): The width of the sepal.\n",
    "   3. Petal Length (cm): The length of the petal (the inner part of the flower).\n",
    "   4. Petal Width (cm): The width of the petal.\n",
    "\n",
    " The target (iris.target) contains the species of the flower.\n",
    " - 0: Setosa (one species of Iris flower)\n",
    " - 1: Versicolor (another species of Iris flower)\n",
    " - 2: Virginica (another species of Iris flower)"
   ]
  },
  {
   "cell_type": "code",
   "execution_count": 7,
   "metadata": {},
   "outputs": [
    {
     "name": "stdout",
     "output_type": "stream",
     "text": [
      "Accuracy: 1.0\n",
      "Random values for target 0 (Setosa): [4.90842901 3.01682434 1.02928473 0.14913396]\n",
      "Predicted class: setosa\n",
      "\n",
      "Random values for target 1 (Versicolor): [6.43516816 2.33004909 4.8434244  1.66059456]\n",
      "Predicted class: versicolor\n",
      "\n",
      "Random values for target 2 (Virginica): [5.61552413 2.70481275 5.26252779 2.25012141]\n",
      "Predicted class: virginica\n",
      "Model saved at: saved_models/random_forest_iris_model.pkl\n"
     ]
    }
   ],
   "source": [
    "# Convert to a pandas DataFrame for easier visualization\n",
    "iris_df = pd.DataFrame(data=iris.data, columns=iris.feature_names)\n",
    "\n",
    "# Add the target column to the DataFrame\n",
    "iris_df['target'] = iris.target\n",
    "\n",
    "# Show the first few rows of the dataset\n",
    "# print(iris_df.head())\n",
    "\n",
    "X = iris.data\n",
    "y = iris.target\n",
    "\n",
    "# Split data into training and test sets\n",
    "X_train, X_test, y_train, y_test = train_test_split(X, y, test_size=0.3, random_state=42)\n",
    "\n",
    "# Create and train a Random Forest model\n",
    "model = RandomForestClassifier(n_estimators=100, random_state=42)\n",
    "model.fit(X_train, y_train)\n",
    "\n",
    "# Make predictions and evaluate accuracy\n",
    "y_pred = model.predict(X_test)\n",
    "accuracy = accuracy_score(y_test, y_pred)\n",
    "print(f\"Accuracy: {accuracy}\")"
   ]
  },
  {
   "cell_type": "code",
   "execution_count": null,
   "metadata": {},
   "outputs": [],
   "source": [
    "# Generate random values for each target class (0, 1, 2)\n",
    "random_values_target_0 = np.random.uniform(low=X[y == 0].min(axis=0), high=X[y == 0].max(axis=0))\n",
    "random_values_target_1 = np.random.uniform(low=X[y == 1].min(axis=0), high=X[y == 1].max(axis=0))\n",
    "random_values_target_2 = np.random.uniform(low=X[y == 2].min(axis=0), high=X[y == 2].max(axis=0))\n",
    "\n",
    "# Predict using the generated random values\n",
    "pred_0 = model.predict([random_values_target_0])\n",
    "pred_1 = model.predict([random_values_target_1])\n",
    "pred_2 = model.predict([random_values_target_2])\n",
    "\n",
    "# Output the random values and predictions\n",
    "print(\"Random values for target 0 (Setosa):\", random_values_target_0)\n",
    "print(\"Predicted class:\", iris.target_names[pred_0[0]])\n",
    "\n",
    "print(\"\\nRandom values for target 1 (Versicolor):\", random_values_target_1)\n",
    "print(\"Predicted class:\", iris.target_names[pred_1[0]])\n",
    "\n",
    "print(\"\\nRandom values for target 2 (Virginica):\", random_values_target_2)\n",
    "print(\"Predicted class:\", iris.target_names[pred_2[0]])"
   ]
  },
  {
   "cell_type": "code",
   "execution_count": null,
   "metadata": {},
   "outputs": [],
   "source": [
    "with open(model_save_path, 'wb') as file:\n",
    "    pickle.dump(model, file)\n",
    "print(f\"Model saved at: {model_save_path}\")"
   ]
  }
 ],
 "metadata": {
  "kernelspec": {
   "display_name": "myenv",
   "language": "python",
   "name": "python3"
  },
  "language_info": {
   "codemirror_mode": {
    "name": "ipython",
    "version": 3
   },
   "file_extension": ".py",
   "mimetype": "text/x-python",
   "name": "python",
   "nbconvert_exporter": "python",
   "pygments_lexer": "ipython3",
   "version": "3.9.20"
  }
 },
 "nbformat": 4,
 "nbformat_minor": 2
}
