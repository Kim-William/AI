{
 "cells": [
  {
   "cell_type": "code",
   "execution_count": 45,
   "metadata": {},
   "outputs": [],
   "source": [
    "import pandas as pd\n",
    "import numpy as np\n",
    "from sklearn.model_selection import train_test_split\n",
    "from sklearn.ensemble import RandomForestRegressor\n",
    "from sklearn.metrics import mean_squared_error, r2_score, mean_absolute_error\n",
    "import joblib\n",
    "import matplotlib.pyplot as plt\n",
    "from sklearn.linear_model import LinearRegression\n",
    "from sklearn.tree import DecisionTreeRegressor\n",
    "from sklearn.ensemble import GradientBoostingRegressor\n",
    "import xgboost as xgb\n",
    "from sklearn.neural_network import MLPRegressor\n",
    "from sklearn.preprocessing import StandardScaler\n",
    "from sklearn.pipeline import make_pipeline"
   ]
  },
  {
   "cell_type": "code",
   "execution_count": 2,
   "metadata": {},
   "outputs": [
    {
     "name": "stdout",
     "output_type": "stream",
     "text": [
      "   Year  LAEI 1km2 ID  GRID_ExactCut_ID  Easting  Northing Borough    Zone  \\\n",
      "0  2008          5910                 1   510500    203500  NonGLA  NonGLA   \n",
      "1  2008          5911                 2   511500    203500  NonGLA  NonGLA   \n",
      "2  2008          5912                 3   512500    203500  NonGLA  NonGLA   \n",
      "3  2008          5915                 4   515500    203500  NonGLA  NonGLA   \n",
      "4  2008          5916                 5   516500    203500  NonGLA  NonGLA   \n",
      "\n",
      "   Household and Garden  Small Waste and Accidental Fires  Agriculture  ...  \\\n",
      "0              0.000087                          0.006183     0.022796  ...   \n",
      "1              0.000278                          0.017851     0.020652  ...   \n",
      "2              0.000174                          0.017042     0.024093  ...   \n",
      "3              0.000260                          0.017204     0.024055  ...   \n",
      "4              0.000226                          0.012579     0.028377  ...   \n",
      "\n",
      "   Non-TfL Bus and Coach_Exhaust  Non-TfL Bus and Coach_Brake  \\\n",
      "0                       0.000505                     0.000609   \n",
      "1                       0.023578                     0.015220   \n",
      "2                       0.011552                     0.009751   \n",
      "3                       0.000504                     0.000607   \n",
      "4                       0.000454                     0.000548   \n",
      "\n",
      "   Non-TfL Bus and Coach_Tyre  Artic HGV_Exhaust  Artic HGV_Brake  \\\n",
      "0                    0.000064           0.000123         0.000167   \n",
      "1                    0.003698           0.277954         0.196195   \n",
      "2                    0.001642           0.206068         0.155889   \n",
      "3                    0.000064           0.000122         0.000166   \n",
      "4                    0.000058           0.000110         0.000150   \n",
      "\n",
      "   Artic HGV_Tyre  Rigid HGV_Exhaust  Rigid HGV_Brake  Rigid HGV_Tyre  \\\n",
      "0        0.000044           0.000984         0.001504        0.000181   \n",
      "1        0.104588           0.136253         0.152646        0.038309   \n",
      "2        0.078363           0.076951         0.103671        0.022126   \n",
      "3        0.000044           0.000981         0.001499        0.000180   \n",
      "4        0.000040           0.000886         0.001353        0.000163   \n",
      "\n",
      "      Total  \n",
      "0  0.186464  \n",
      "1  6.187357  \n",
      "2  3.805581  \n",
      "3  0.205775  \n",
      "4  0.192161  \n",
      "\n",
      "[5 rows x 65 columns]\n"
     ]
    }
   ],
   "source": [
    "grid_emissions = pd.read_excel('Dataset/grid-emissions-summary/LAEI2013_Emissions_Summary-PM10_v1.1.xlsx', sheet_name='PM10 by Grid Exact Cut', header=3)\n",
    "print(grid_emissions.head())"
   ]
  },
  {
   "cell_type": "code",
   "execution_count": 3,
   "metadata": {},
   "outputs": [
    {
     "name": "stdout",
     "output_type": "stream",
     "text": [
      "        x       y      conc\n",
      "0  519100  203440  14.48321\n",
      "1  519120  203440  15.45412\n",
      "2  519140  203440  17.53899\n",
      "3  519160  203440  16.30368\n",
      "4  519180  203440  15.10603\n"
     ]
    }
   ],
   "source": [
    "concentrations = pd.read_csv('Dataset/concentrations-data/laei_LAEI2019_2025_Base_Final_CorNOx15_PM10m.csv')\n",
    "print(concentrations.head())"
   ]
  },
  {
   "cell_type": "code",
   "execution_count": 4,
   "metadata": {},
   "outputs": [
    {
     "name": "stdout",
     "output_type": "stream",
     "text": [
      "   Year  LAEI 1km2 ID  GRID_ExactCut_ID  Easting  Northing Borough    Zone  \\\n",
      "0  2008          5910                 1   510500    203500  NonGLA  NonGLA   \n",
      "1  2008          5911                 2   511500    203500  NonGLA  NonGLA   \n",
      "2  2008          5912                 3   512500    203500  NonGLA  NonGLA   \n",
      "3  2008          5915                 4   515500    203500  NonGLA  NonGLA   \n",
      "4  2008          5916                 5   516500    203500  NonGLA  NonGLA   \n",
      "\n",
      "   Household and Garden  Small Waste and Accidental Fires  Agriculture  ...  \\\n",
      "0              0.000087                          0.006183     0.022796  ...   \n",
      "1              0.000278                          0.017851     0.020652  ...   \n",
      "2              0.000174                          0.017042     0.024093  ...   \n",
      "3              0.000260                          0.017204     0.024055  ...   \n",
      "4              0.000226                          0.012579     0.028377  ...   \n",
      "\n",
      "   Non-TfL Bus and Coach_Exhaust  Non-TfL Bus and Coach_Brake  \\\n",
      "0                       0.000505                     0.000609   \n",
      "1                       0.023578                     0.015220   \n",
      "2                       0.011552                     0.009751   \n",
      "3                       0.000504                     0.000607   \n",
      "4                       0.000454                     0.000548   \n",
      "\n",
      "   Non-TfL Bus and Coach_Tyre  Artic HGV_Exhaust  Artic HGV_Brake  \\\n",
      "0                    0.000064           0.000123         0.000167   \n",
      "1                    0.003698           0.277954         0.196195   \n",
      "2                    0.001642           0.206068         0.155889   \n",
      "3                    0.000064           0.000122         0.000166   \n",
      "4                    0.000058           0.000110         0.000150   \n",
      "\n",
      "   Artic HGV_Tyre  Rigid HGV_Exhaust  Rigid HGV_Brake  Rigid HGV_Tyre  \\\n",
      "0        0.000044           0.000984         0.001504        0.000181   \n",
      "1        0.104588           0.136253         0.152646        0.038309   \n",
      "2        0.078363           0.076951         0.103671        0.022126   \n",
      "3        0.000044           0.000981         0.001499        0.000180   \n",
      "4        0.000040           0.000886         0.001353        0.000163   \n",
      "\n",
      "      Total  \n",
      "0  0.186464  \n",
      "1  6.187357  \n",
      "2  3.805581  \n",
      "3  0.205775  \n",
      "4  0.192161  \n",
      "\n",
      "[5 rows x 65 columns]\n"
     ]
    },
    {
     "name": "stderr",
     "output_type": "stream",
     "text": [
      "/tmp/ipykernel_180331/2876842641.py:7: SettingWithCopyWarning: \n",
      "A value is trying to be set on a copy of a slice from a DataFrame\n",
      "\n",
      "See the caveats in the documentation: https://pandas.pydata.org/pandas-docs/stable/user_guide/indexing.html#returning-a-view-versus-a-copy\n",
      "  grid_emissions_cleaned.fillna(0, inplace=True)\n"
     ]
    }
   ],
   "source": [
    "# concentrations 데이터 확인 및 필요 열 선택\n",
    "print(grid_emissions.head())\n",
    "\n",
    "grid_emissions_cleaned = grid_emissions[['Year', 'Easting', 'Northing', 'Household and Garden', 'Agriculture']]\n",
    "\n",
    "# 결측치 처리 (예: 결측치를 0으로 대체)\n",
    "grid_emissions_cleaned.fillna(0, inplace=True)"
   ]
  },
  {
   "cell_type": "code",
   "execution_count": 5,
   "metadata": {},
   "outputs": [
    {
     "name": "stdout",
     "output_type": "stream",
     "text": [
      "        x       y      conc\n",
      "0  519100  203440  14.48321\n",
      "1  519120  203440  15.45412\n",
      "2  519140  203440  17.53899\n",
      "3  519160  203440  16.30368\n",
      "4  519180  203440  15.10603\n"
     ]
    }
   ],
   "source": [
    "print(concentrations.head())\n",
    "\n",
    "concentrations_cleaned = concentrations[['x', 'y', 'conc']]\n",
    "\n",
    "concentrations_cleaned.rename(columns={'x': 'Easting', 'y': 'Northing'}, inplace=True)"
   ]
  },
  {
   "cell_type": "code",
   "execution_count": 6,
   "metadata": {},
   "outputs": [
    {
     "name": "stdout",
     "output_type": "stream",
     "text": [
      "   Year  Easting  Northing  Household and Garden  Agriculture      conc\n",
      "0  2008   509500    202500              0.000729     0.017540  12.15564\n",
      "1  2008   510500    202500              0.000052     0.027853  11.99961\n",
      "2  2008   511500    202500              0.000104     0.026385  12.00740\n",
      "3  2008   512500    202500              0.001007     0.009546  12.32532\n",
      "4  2008   513500    202500              0.000538     0.010494  12.71153\n"
     ]
    }
   ],
   "source": [
    "merged_data = pd.merge(grid_emissions_cleaned, concentrations_cleaned, on=['Easting', 'Northing'], how='inner')\n",
    "\n",
    "print(merged_data.head())"
   ]
  },
  {
   "cell_type": "code",
   "execution_count": 7,
   "metadata": {},
   "outputs": [
    {
     "name": "stdout",
     "output_type": "stream",
     "text": [
      "   Household and Garden  Agriculture\n",
      "0              0.000729     0.017540\n",
      "1              0.000052     0.027853\n",
      "2              0.000104     0.026385\n",
      "3              0.001007     0.009546\n",
      "4              0.000538     0.010494 0    12.15564\n",
      "1    11.99961\n",
      "2    12.00740\n",
      "3    12.32532\n",
      "4    12.71153\n",
      "Name: conc, dtype: float64\n"
     ]
    }
   ],
   "source": [
    "y = merged_data['conc']\n",
    "\n",
    "X = merged_data[['Household and Garden', 'Agriculture']]\n",
    "\n",
    "print(X.head(), y.head())"
   ]
  },
  {
   "cell_type": "code",
   "execution_count": 8,
   "metadata": {},
   "outputs": [
    {
     "name": "stdout",
     "output_type": "stream",
     "text": [
      "(15408, 2) (3852, 2)\n"
     ]
    }
   ],
   "source": [
    "X_train, X_test, y_train, y_test = train_test_split(X, y, test_size=0.2, random_state=42)\n",
    "\n",
    "print(X_train.shape, X_test.shape)"
   ]
  },
  {
   "cell_type": "code",
   "execution_count": 9,
   "metadata": {},
   "outputs": [],
   "source": [
    "rf_model = RandomForestRegressor(n_estimators=100, random_state=42)\n",
    "\n",
    "rf_model.fit(X_train, y_train)\n",
    "\n",
    "y_pred_rf = rf_model.predict(X_test)"
   ]
  },
  {
   "cell_type": "code",
   "execution_count": 10,
   "metadata": {},
   "outputs": [],
   "source": [
    "linear_model = LinearRegression()\n",
    "\n",
    "linear_model.fit(X_train, y_train)\n",
    "\n",
    "y_pred_linear = linear_model.predict(X_test)"
   ]
  },
  {
   "cell_type": "code",
   "execution_count": 11,
   "metadata": {},
   "outputs": [],
   "source": [
    "tree_model = DecisionTreeRegressor(random_state=42)\n",
    "\n",
    "tree_model.fit(X_train, y_train)\n",
    "\n",
    "y_pred_tree = tree_model.predict(X_test)"
   ]
  },
  {
   "cell_type": "code",
   "execution_count": 12,
   "metadata": {},
   "outputs": [],
   "source": [
    "gbr_model = GradientBoostingRegressor(n_estimators=100, random_state=42)\n",
    "\n",
    "gbr_model.fit(X_train, y_train)\n",
    "\n",
    "y_pred_gbr = gbr_model.predict(X_test)"
   ]
  },
  {
   "cell_type": "code",
   "execution_count": 13,
   "metadata": {},
   "outputs": [],
   "source": [
    "xgb_model = xgb.XGBRegressor(n_estimators=100, random_state=42)\n",
    "\n",
    "xgb_model.fit(X_train, y_train)\n",
    "\n",
    "y_pred_xgb = xgb_model.predict(X_test)"
   ]
  },
  {
   "cell_type": "code",
   "execution_count": 22,
   "metadata": {},
   "outputs": [],
   "source": [
    "scaler = StandardScaler()\n",
    "\n",
    "nn_model = MLPRegressor(hidden_layer_sizes=(100, 50),  # 은닉층 2개, 각 층에 100, 50개의 뉴런\n",
    "                        activation='relu',             # 활성화 함수는 ReLU\n",
    "                        solver='adam',                 # Adam 최적화 알고리즘 사용\n",
    "                        max_iter=1000,                 # 최대 1000번의 반복\n",
    "                        random_state=42)\n",
    "\n",
    "nn_pipeline = make_pipeline(scaler, nn_model)\n",
    "\n",
    "nn_pipeline.fit(X_train, y_train)\n",
    "\n",
    "y_pred_nn = nn_pipeline.predict(X_test)"
   ]
  },
  {
   "cell_type": "code",
   "execution_count": 29,
   "metadata": {},
   "outputs": [],
   "source": [
    "def get_result(model_name, y_test, y_pred):\n",
    "    rmse = np.sqrt(mean_squared_error(y_test, y_pred))\n",
    "    r2 = r2_score(y_test, y_pred)\n",
    "\n",
    "    mae = mean_absolute_error(y_test, y_pred)\n",
    "    mse = mean_squared_error(y_test, y_pred)\n",
    "\n",
    "    threshold = 0.10  \n",
    "    accuracy = np.mean(np.abs((y_test - y_pred) / y_test) < threshold)\n",
    "\n",
    "    return mae, mse, rmse, r2, accuracy"
   ]
  },
  {
   "cell_type": "code",
   "execution_count": 30,
   "metadata": {},
   "outputs": [],
   "source": [
    "mae_rf, mse_rf, rmse_rf, r2_rf, accuracy_rf = get_result('Random Forest', y_test, y_pred_rf)\n",
    "mae_linear, mse_linear, rmse_linear, r2_linear, accuracy_linear = get_result('Linear Regression', y_test, y_pred_linear)\n",
    "mae_tree, mse_tree, rmse_tree, r2_tree, accuracy_tree = get_result('Decision Tree Regressor', y_test, y_pred_tree)\n",
    "mae_gbr, mse_gbr, rmse_gbr, r2_gbr, accuracy_gbr = get_result('Gradient Boosting Regressor', y_test, y_pred_gbr)\n",
    "mae_xgb, mse_xgb, rmse_xgb, r2_xgb, accuracy_xgb = get_result('XGBoost', y_test, y_pred_xgb)\n",
    "mae_nn, mse_nn, rmse_nn, r2_nn, accuracy_nn = get_result('Neural Network Regressor', y_test, y_pred_nn)"
   ]
  },
  {
   "cell_type": "code",
   "execution_count": 44,
   "metadata": {},
   "outputs": [
    {
     "data": {
      "image/png": "[encoded data removed]",
      "text/plain": [
       "<Figure size 1400x800 with 1 Axes>"
      ]
     },
     "metadata": {},
     "output_type": "display_data"
    }
   ],
   "source": [
    "models = ['Random Forest', 'Linear Regression', 'Decision Tree', 'Gradient Boosting', 'XGBoost', 'Neural Network']\n",
    "\n",
    "mae_values = [mae_rf, mae_linear, mae_tree, mae_gbr, mae_xgb, mae_nn]\n",
    "rmse_values = [rmse_rf, rmse_linear, rmse_tree, rmse_gbr, rmse_xgb, rmse_nn]\n",
    "r2_values = [r2_rf, r2_linear, r2_tree, r2_gbr, r2_xgb, r2_nn]\n",
    "accuracy_values = [accuracy_rf * 1, accuracy_linear * 1, accuracy_tree * 1, accuracy_gbr * 1, accuracy_xgb * 1, accuracy_nn * 1]\n",
    "\n",
    "x = np.arange(len(models))\n",
    "width = 0.1  \n",
    "\n",
    "plt.figure(figsize=(14, 8))\n",
    "\n",
    "plt.bar(x - width*1.5, mae_values, width, label='MAE', color='skyblue')\n",
    "plt.bar(x - width*0.5, rmse_values, width, label='RMSE', color='lightgreen')\n",
    "plt.bar(x + width*0.5, r2_values, width, label='R² Score', color='salmon')\n",
    "plt.bar(x + width*1.5, accuracy_values, width, label='Accuracy', color='yellow')\n",
    "\n",
    "plt.xticks(x, models)\n",
    "\n",
    "plt.title('Model Performance Comparison', fontsize=16)\n",
    "plt.xlabel('Models', fontsize=14)\n",
    "plt.ylabel('Scores', fontsize=14)\n",
    "\n",
    "plt.legend()\n",
    "\n",
    "plt.show()"
   ]
  },
  {
   "cell_type": "code",
   "execution_count": null,
   "metadata": {},
   "outputs": [],
   "source": []
  }
 ],
 "metadata": {
  "kernelspec": {
   "display_name": "myenv",
   "language": "python",
   "name": "python3"
  },
  "language_info": {
   "codemirror_mode": {
    "name": "ipython",
    "version": 3
   },
   "file_extension": ".py",
   "mimetype": "text/x-python",
   "name": "python",
   "nbconvert_exporter": "python",
   "pygments_lexer": "ipython3",
   "version": "3.9.20"
  }
 },
 "nbformat": 4,
 "nbformat_minor": 2
}
